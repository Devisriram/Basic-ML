{
  "nbformat": 4,
  "nbformat_minor": 0,
  "metadata": {
    "colab": {
      "name": "Python3.ipynb",
      "provenance": [],
      "authorship_tag": "ABX9TyOZe3b+iRR2TqTc6HZVeIJG",
      "include_colab_link": true
    },
    "kernelspec": {
      "name": "python3",
      "display_name": "Python 3"
    },
    "language_info": {
      "name": "python"
    }
  },
  "cells": [
    {
      "cell_type": "markdown",
      "metadata": {
        "id": "view-in-github",
        "colab_type": "text"
      },
      "source": [
        "<a href=\"https://colab.research.google.com/github/Devisriram/Basic-ML/blob/main/Python3.ipynb\" target=\"_parent\"><img src=\"https://colab.research.google.com/assets/colab-badge.svg\" alt=\"Open In Colab\"/></a>"
      ]
    },
    {
      "cell_type": "code",
      "metadata": {
        "id": "28NRx843DmCj"
      },
      "source": [
        "\"Pyhton problems\""
      ],
      "execution_count": null,
      "outputs": []
    },
    {
      "cell_type": "markdown",
      "metadata": {
        "id": "OkIb9xikD-3l"
      },
      "source": [
        "->Program to find the sum of the numbers until the input is zero(0)."
      ]
    },
    {
      "cell_type": "code",
      "metadata": {
        "colab": {
          "base_uri": "https://localhost:8080/"
        },
        "id": "6xZvL2cpEIhS",
        "outputId": "b8473ded-9995-42c3-d24e-d2c44e65b9bf"
      },
      "source": [
        "sum = 0\n",
        "n = int(input())\n",
        "while n != 0:\n",
        "  sum += n\n",
        "  n = int(input() )\n",
        "print(sum)\n"
      ],
      "execution_count": null,
      "outputs": [
        {
          "output_type": "stream",
          "text": [
            "1\n",
            "3\n",
            "4\n",
            "5\n",
            "0\n",
            "13\n"
          ],
          "name": "stdout"
        }
      ]
    },
    {
      "cell_type": "markdown",
      "metadata": {
        "id": "qXEdWMcaDyfU"
      },
      "source": [
        ""
      ]
    },
    {
      "cell_type": "markdown",
      "metadata": {
        "id": "ko_D3kizFTBR"
      },
      "source": [
        "->Python code to find factorial of the given number."
      ]
    },
    {
      "cell_type": "code",
      "metadata": {
        "colab": {
          "base_uri": "https://localhost:8080/"
        },
        "id": "-LdKsRnQFc8f",
        "outputId": "cdf3f18e-8045-4aa3-ae02-7edabb8c78b9"
      },
      "source": [
        "def factorial(n):\n",
        "  if n == 0:\n",
        "    return 1\n",
        "  else:\n",
        "    return n*factorial(n-1)\n",
        "n = int(input())\n",
        "print(factorial(n))\n"
      ],
      "execution_count": null,
      "outputs": [
        {
          "output_type": "stream",
          "text": [
            "6\n",
            "720\n"
          ],
          "name": "stdout"
        }
      ]
    },
    {
      "cell_type": "markdown",
      "metadata": {
        "id": "HSZFjbCwGb-7"
      },
      "source": [
        "->Python code to write a lower triangular matrix"
      ]
    },
    {
      "cell_type": "code",
      "metadata": {
        "colab": {
          "base_uri": "https://localhost:8080/"
        },
        "id": "62wQdiCEGwDh",
        "outputId": "3e8c9e0f-1a7c-4b9b-8f19-0254a77efb4d"
      },
      "source": [
        "n = int(input())\n",
        "a = [[0]*n for i in range(n)]\n",
        "for i in range(n):\n",
        "  for j in range(n):\n",
        "    if i<j:\n",
        "      a[i][j] = 0\n",
        "    elif i>j:\n",
        "      a[i][j] = 2\n",
        "    else:\n",
        "      a[i][j] = 1\n",
        "for row in a:\n",
        "  print(' '.join([str(elem) for elem in row]))"
      ],
      "execution_count": null,
      "outputs": [
        {
          "output_type": "stream",
          "text": [
            "4\n",
            "1 0 0 0\n",
            "2 1 0 0\n",
            "2 2 1 0\n",
            "2 2 2 1\n"
          ],
          "name": "stdout"
        }
      ]
    }
  ]
}