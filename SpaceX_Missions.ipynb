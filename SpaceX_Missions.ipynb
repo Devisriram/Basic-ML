{
  "nbformat": 4,
  "nbformat_minor": 0,
  "metadata": {
    "colab": {
      "name": "SpaceX Missions",
      "provenance": [],
      "collapsed_sections": [],
      "authorship_tag": "ABX9TyP4Ad7foR778OQ7LFGvMBWj",
      "include_colab_link": true
    },
    "kernelspec": {
      "name": "python3",
      "display_name": "Python 3"
    },
    "language_info": {
      "name": "python"
    }
  },
  "cells": [
    {
      "cell_type": "markdown",
      "metadata": {
        "id": "view-in-github",
        "colab_type": "text"
      },
      "source": [
        "<a href=\"https://colab.research.google.com/github/Devisriram/Basic-ML/blob/main/SpaceX_Missions.ipynb\" target=\"_parent\"><img src=\"https://colab.research.google.com/assets/colab-badge.svg\" alt=\"Open In Colab\"/></a>"
      ]
    },
    {
      "cell_type": "markdown",
      "metadata": {
        "id": "JBIxUhpywfKE"
      },
      "source": [
        "# **Explorative Data Analysis (EDA)**\n",
        "\n",
        "\n",
        "Explorative Data Analysis is a process where one learns about the data, forms insights and identifies important columns (features) that can be user to tell a story or later formulate a ML problem.\n",
        "\n"
      ]
    },
    {
      "cell_type": "markdown",
      "metadata": {
        "id": "c_ozNMqHwqoy"
      },
      "source": [
        "The Data set contains about the information regarding SpaceX Mission and details regarding each and every mession that has been done by SpaceX."
      ]
    },
    {
      "cell_type": "code",
      "metadata": {
        "id": "VNgt9Vk4wtWe"
      },
      "source": [
        "import pandas as pd\n",
        "import matplotlib.pyplot as plt\n",
        "import numpy as np\n",
        "import seaborn as sns\n",
        "\n",
        "import warnings\n",
        "warnings.filterwarnings(\"ignore\")\n",
        "\n",
        "%matplotlib inline"
      ],
      "execution_count": 43,
      "outputs": []
    },
    {
      "cell_type": "markdown",
      "metadata": {
        "id": "Eav30-diwzPq"
      },
      "source": [
        "\n",
        "\n",
        "> The warnings library has been imported to supress the warnings using the command warnings.filterwarnings(\"ignore\")\n",
        "\n"
      ]
    },
    {
      "cell_type": "code",
      "metadata": {
        "id": "ybREtPUEw3UP"
      },
      "source": [
        "spacex_data = pd.read_csv(\"/Spacex.csv\")"
      ],
      "execution_count": 45,
      "outputs": []
    },
    {
      "cell_type": "markdown",
      "metadata": {
        "id": "csvOixx9xBAO"
      },
      "source": [
        "The data has been imported as a dataset into variable data using the method .read_csv() method of Pandas library.\n",
        "\n",
        "> The size of data can be known using shape as below.\n",
        "\n"
      ]
    },
    {
      "cell_type": "code",
      "metadata": {
        "colab": {
          "base_uri": "https://localhost:8080/"
        },
        "id": "uLQCfni_xOw0",
        "outputId": "706bf338-9444-42f2-847f-b5cb94f89df4"
      },
      "source": [
        "spacex_data.shape"
      ],
      "execution_count": 46,
      "outputs": [
        {
          "output_type": "execute_result",
          "data": {
            "text/plain": [
              "(41, 16)"
            ]
          },
          "metadata": {},
          "execution_count": 46
        }
      ]
    },
    {
      "cell_type": "markdown",
      "metadata": {
        "id": "UqxCczdExWNZ"
      },
      "source": [
        "It indicates that the data contains 41 observations with 16 features..\n",
        "\n",
        "\n",
        "> The .head() and .tail() methods can be used to show a dataframe consisting of first five rows and last five rows respectively.\n",
        "\n",
        "\n",
        "\n"
      ]
    },
    {
      "cell_type": "code",
      "metadata": {
        "colab": {
          "base_uri": "https://localhost:8080/",
          "height": 330
        },
        "id": "y4YDBduJxhJr",
        "outputId": "f69f4375-5536-4378-c91c-bd314dc9e560"
      },
      "source": [
        "spacex_data.head()"
      ],
      "execution_count": 11,
      "outputs": [
        {
          "output_type": "execute_result",
          "data": {
            "text/html": [
              "<div>\n",
              "<style scoped>\n",
              "    .dataframe tbody tr th:only-of-type {\n",
              "        vertical-align: middle;\n",
              "    }\n",
              "\n",
              "    .dataframe tbody tr th {\n",
              "        vertical-align: top;\n",
              "    }\n",
              "\n",
              "    .dataframe thead th {\n",
              "        text-align: right;\n",
              "    }\n",
              "</style>\n",
              "<table border=\"1\" class=\"dataframe\">\n",
              "  <thead>\n",
              "    <tr style=\"text-align: right;\">\n",
              "      <th></th>\n",
              "      <th>Flight_Number</th>\n",
              "      <th>Launch_Date</th>\n",
              "      <th>Launch_Time</th>\n",
              "      <th>Launch_Site</th>\n",
              "      <th>Vehicle_Type</th>\n",
              "      <th>Payload_Name</th>\n",
              "      <th>Payload_Type</th>\n",
              "      <th>Payload_Mass_(kg)</th>\n",
              "      <th>Payload_Orbit</th>\n",
              "      <th>Customer_Name</th>\n",
              "      <th>Customer_Type</th>\n",
              "      <th>Customer_Country</th>\n",
              "      <th>Mission_Outcome</th>\n",
              "      <th>Failure_Reason</th>\n",
              "      <th>Landing_Type</th>\n",
              "      <th>Landing_Outcome</th>\n",
              "    </tr>\n",
              "  </thead>\n",
              "  <tbody>\n",
              "    <tr>\n",
              "      <th>0</th>\n",
              "      <td>F1-1</td>\n",
              "      <td>24-Mar-06</td>\n",
              "      <td>22:30</td>\n",
              "      <td>Marshall Islands</td>\n",
              "      <td>Falcon 1</td>\n",
              "      <td>FalconSAT-2</td>\n",
              "      <td>Research Satellite</td>\n",
              "      <td>19.5</td>\n",
              "      <td>NaN</td>\n",
              "      <td>DARPA</td>\n",
              "      <td>Government</td>\n",
              "      <td>United States</td>\n",
              "      <td>Failure</td>\n",
              "      <td>Engine Fire During Launch</td>\n",
              "      <td>NaN</td>\n",
              "      <td>NaN</td>\n",
              "    </tr>\n",
              "    <tr>\n",
              "      <th>1</th>\n",
              "      <td>F1-2</td>\n",
              "      <td>21-Mar-07</td>\n",
              "      <td>01:10</td>\n",
              "      <td>Marshall Islands</td>\n",
              "      <td>Falcon 1</td>\n",
              "      <td>DemoSat</td>\n",
              "      <td>NaN</td>\n",
              "      <td>NaN</td>\n",
              "      <td>NaN</td>\n",
              "      <td>DARPA</td>\n",
              "      <td>Government</td>\n",
              "      <td>United States</td>\n",
              "      <td>Failure</td>\n",
              "      <td>Engine Shutdown During Launch</td>\n",
              "      <td>NaN</td>\n",
              "      <td>NaN</td>\n",
              "    </tr>\n",
              "    <tr>\n",
              "      <th>2</th>\n",
              "      <td>F1-3</td>\n",
              "      <td>03-Aug-08</td>\n",
              "      <td>03:34</td>\n",
              "      <td>Marshall Islands</td>\n",
              "      <td>Falcon 1</td>\n",
              "      <td>Trailblazer</td>\n",
              "      <td>Communication Satellite</td>\n",
              "      <td>NaN</td>\n",
              "      <td>NaN</td>\n",
              "      <td>ORS</td>\n",
              "      <td>Government</td>\n",
              "      <td>United States</td>\n",
              "      <td>Failure</td>\n",
              "      <td>Collision During Launch</td>\n",
              "      <td>NaN</td>\n",
              "      <td>NaN</td>\n",
              "    </tr>\n",
              "    <tr>\n",
              "      <th>3</th>\n",
              "      <td>F1-3</td>\n",
              "      <td>03-Aug-08</td>\n",
              "      <td>03:34</td>\n",
              "      <td>Marshall Islands</td>\n",
              "      <td>Falcon 1</td>\n",
              "      <td>PRESat, NanoSail-D</td>\n",
              "      <td>Research Satellites</td>\n",
              "      <td>8.0</td>\n",
              "      <td>NaN</td>\n",
              "      <td>NASA</td>\n",
              "      <td>Government</td>\n",
              "      <td>United States</td>\n",
              "      <td>Failure</td>\n",
              "      <td>Collision During Launch</td>\n",
              "      <td>NaN</td>\n",
              "      <td>NaN</td>\n",
              "    </tr>\n",
              "    <tr>\n",
              "      <th>4</th>\n",
              "      <td>F1-3</td>\n",
              "      <td>03-Aug-08</td>\n",
              "      <td>03:34</td>\n",
              "      <td>Marshall Islands</td>\n",
              "      <td>Falcon 1</td>\n",
              "      <td>Explorers</td>\n",
              "      <td>Human Remains</td>\n",
              "      <td>NaN</td>\n",
              "      <td>NaN</td>\n",
              "      <td>Celestis</td>\n",
              "      <td>Business</td>\n",
              "      <td>United States</td>\n",
              "      <td>Failure</td>\n",
              "      <td>Collision During Launch</td>\n",
              "      <td>NaN</td>\n",
              "      <td>NaN</td>\n",
              "    </tr>\n",
              "  </tbody>\n",
              "</table>\n",
              "</div>"
            ],
            "text/plain": [
              "  Flight_Number Launch_Date  ... Landing_Type Landing_Outcome\n",
              "0          F1-1   24-Mar-06  ...          NaN             NaN\n",
              "1          F1-2   21-Mar-07  ...          NaN             NaN\n",
              "2          F1-3   03-Aug-08  ...          NaN             NaN\n",
              "3          F1-3   03-Aug-08  ...          NaN             NaN\n",
              "4          F1-3   03-Aug-08  ...          NaN             NaN\n",
              "\n",
              "[5 rows x 16 columns]"
            ]
          },
          "metadata": {},
          "execution_count": 11
        }
      ]
    },
    {
      "cell_type": "markdown",
      "metadata": {
        "id": "KYXh8JHIxstt"
      },
      "source": [
        "the above is result that occured by using the head() method."
      ]
    },
    {
      "cell_type": "code",
      "metadata": {
        "colab": {
          "base_uri": "https://localhost:8080/",
          "height": 399
        },
        "id": "BwgcH4irxw_t",
        "outputId": "31c9e66a-b46a-4140-c76a-9cf8c98535ab"
      },
      "source": [
        "spacex_data.tail()"
      ],
      "execution_count": 12,
      "outputs": [
        {
          "output_type": "execute_result",
          "data": {
            "text/html": [
              "<div>\n",
              "<style scoped>\n",
              "    .dataframe tbody tr th:only-of-type {\n",
              "        vertical-align: middle;\n",
              "    }\n",
              "\n",
              "    .dataframe tbody tr th {\n",
              "        vertical-align: top;\n",
              "    }\n",
              "\n",
              "    .dataframe thead th {\n",
              "        text-align: right;\n",
              "    }\n",
              "</style>\n",
              "<table border=\"1\" class=\"dataframe\">\n",
              "  <thead>\n",
              "    <tr style=\"text-align: right;\">\n",
              "      <th></th>\n",
              "      <th>Flight_Number</th>\n",
              "      <th>Launch_Date</th>\n",
              "      <th>Launch_Time</th>\n",
              "      <th>Launch_Site</th>\n",
              "      <th>Vehicle_Type</th>\n",
              "      <th>Payload_Name</th>\n",
              "      <th>Payload_Type</th>\n",
              "      <th>Payload_Mass_(kg)</th>\n",
              "      <th>Payload_Orbit</th>\n",
              "      <th>Customer_Name</th>\n",
              "      <th>Customer_Type</th>\n",
              "      <th>Customer_Country</th>\n",
              "      <th>Mission_Outcome</th>\n",
              "      <th>Failure_Reason</th>\n",
              "      <th>Landing_Type</th>\n",
              "      <th>Landing_Outcome</th>\n",
              "    </tr>\n",
              "  </thead>\n",
              "  <tbody>\n",
              "    <tr>\n",
              "      <th>36</th>\n",
              "      <td>FT-7</td>\n",
              "      <td>18-Jul-16</td>\n",
              "      <td>04:45</td>\n",
              "      <td>Cape Canaveral AFS LC-40</td>\n",
              "      <td>Falcon 9 Full Thrust (v1.2)</td>\n",
              "      <td>SpaceX CRS-9</td>\n",
              "      <td>Space Station Supplies</td>\n",
              "      <td>2257.0</td>\n",
              "      <td>Low Earth Orbit</td>\n",
              "      <td>NASA</td>\n",
              "      <td>Government</td>\n",
              "      <td>United States</td>\n",
              "      <td>Success</td>\n",
              "      <td>NaN</td>\n",
              "      <td>Land</td>\n",
              "      <td>Success</td>\n",
              "    </tr>\n",
              "    <tr>\n",
              "      <th>37</th>\n",
              "      <td>FT-8</td>\n",
              "      <td>14-Aug-16</td>\n",
              "      <td>05:26</td>\n",
              "      <td>Cape Canaveral AFS LC-40</td>\n",
              "      <td>Falcon 9 Full Thrust (v1.2)</td>\n",
              "      <td>JCSAT-16</td>\n",
              "      <td>Communication Satellite</td>\n",
              "      <td>4600.0</td>\n",
              "      <td>Geostationary Transfer Orbit</td>\n",
              "      <td>SKY Perfect JSAT Group</td>\n",
              "      <td>Business</td>\n",
              "      <td>Japan</td>\n",
              "      <td>Success</td>\n",
              "      <td>NaN</td>\n",
              "      <td>Ship</td>\n",
              "      <td>Success</td>\n",
              "    </tr>\n",
              "    <tr>\n",
              "      <th>38</th>\n",
              "      <td>FT-9</td>\n",
              "      <td>01-Sep-16</td>\n",
              "      <td>13:07</td>\n",
              "      <td>Cape Canaveral AFS LC-40</td>\n",
              "      <td>Falcon 9 Full Thrust (v1.2)</td>\n",
              "      <td>Amos-6</td>\n",
              "      <td>Communication Satellite</td>\n",
              "      <td>5500.0</td>\n",
              "      <td>Geostationary Transfer Orbit</td>\n",
              "      <td>Spacecom</td>\n",
              "      <td>Business</td>\n",
              "      <td>Israel</td>\n",
              "      <td>Failure</td>\n",
              "      <td>Vehicle Explosion Before Launch</td>\n",
              "      <td>NaN</td>\n",
              "      <td>NaN</td>\n",
              "    </tr>\n",
              "    <tr>\n",
              "      <th>39</th>\n",
              "      <td>FT-10</td>\n",
              "      <td>14-Jan-17</td>\n",
              "      <td>17:54</td>\n",
              "      <td>Vandenberg AFB SLC-4E</td>\n",
              "      <td>Falcon 9 Full Thrust (v1.2)</td>\n",
              "      <td>Iridium NEXT 1-10</td>\n",
              "      <td>Communication Satellite</td>\n",
              "      <td>9600.0</td>\n",
              "      <td>Low Earth Orbit</td>\n",
              "      <td>Iridium Communications</td>\n",
              "      <td>Business</td>\n",
              "      <td>United States</td>\n",
              "      <td>Success</td>\n",
              "      <td>NaN</td>\n",
              "      <td>Ship</td>\n",
              "      <td>Success</td>\n",
              "    </tr>\n",
              "    <tr>\n",
              "      <th>40</th>\n",
              "      <td>FT-11</td>\n",
              "      <td>19-Feb-17</td>\n",
              "      <td>14:39</td>\n",
              "      <td>Kennedy Space Center LC-39A</td>\n",
              "      <td>Falcon 9 Full Thrust (v1.2)</td>\n",
              "      <td>SpaceX CRS-10</td>\n",
              "      <td>Space Station Supplies</td>\n",
              "      <td>2490.0</td>\n",
              "      <td>Low Earth Orbit</td>\n",
              "      <td>NASA</td>\n",
              "      <td>Government</td>\n",
              "      <td>United States</td>\n",
              "      <td>Success</td>\n",
              "      <td>NaN</td>\n",
              "      <td>Land</td>\n",
              "      <td>Success</td>\n",
              "    </tr>\n",
              "  </tbody>\n",
              "</table>\n",
              "</div>"
            ],
            "text/plain": [
              "   Flight_Number Launch_Date  ... Landing_Type Landing_Outcome\n",
              "36          FT-7   18-Jul-16  ...         Land         Success\n",
              "37          FT-8   14-Aug-16  ...         Ship         Success\n",
              "38          FT-9   01-Sep-16  ...          NaN             NaN\n",
              "39         FT-10   14-Jan-17  ...         Ship         Success\n",
              "40         FT-11   19-Feb-17  ...         Land         Success\n",
              "\n",
              "[5 rows x 16 columns]"
            ]
          },
          "metadata": {},
          "execution_count": 12
        }
      ]
    },
    {
      "cell_type": "markdown",
      "metadata": {
        "id": "XzlgFIq4x05e"
      },
      "source": [
        "the above is the result that occured by using tail() method..\n",
        "\n",
        "> Now we will display the colums that are present in our data.\n"
      ]
    },
    {
      "cell_type": "code",
      "metadata": {
        "colab": {
          "base_uri": "https://localhost:8080/"
        },
        "id": "ZWLB7rzbyAKy",
        "outputId": "8a8358cf-20bd-4001-c7d1-eb3ad03ff651"
      },
      "source": [
        "spacex_data.columns"
      ],
      "execution_count": 13,
      "outputs": [
        {
          "output_type": "execute_result",
          "data": {
            "text/plain": [
              "Index(['Flight_Number', 'Launch_Date', 'Launch_Time', 'Launch_Site',\n",
              "       'Vehicle_Type', 'Payload_Name', 'Payload_Type', 'Payload_Mass_(kg)',\n",
              "       'Payload_Orbit', 'Customer_Name', 'Customer_Type', 'Customer_Country',\n",
              "       'Mission_Outcome', 'Failure_Reason', 'Landing_Type', 'Landing_Outcome'],\n",
              "      dtype='object')"
            ]
          },
          "metadata": {},
          "execution_count": 13
        }
      ]
    },
    {
      "cell_type": "markdown",
      "metadata": {
        "id": "p9C0uhocyJ4m"
      },
      "source": [
        "\n",
        "\n",
        "> Now we will find the in how many observations this colums (features) has no null values..\n",
        "\n"
      ]
    },
    {
      "cell_type": "code",
      "metadata": {
        "colab": {
          "base_uri": "https://localhost:8080/"
        },
        "id": "mhylLY5eyMGI",
        "outputId": "e2aabdfb-20d4-4919-eacd-581dd2ec5adf"
      },
      "source": [
        "spacex_data.count()"
      ],
      "execution_count": 14,
      "outputs": [
        {
          "output_type": "execute_result",
          "data": {
            "text/plain": [
              "Flight_Number        41\n",
              "Launch_Date          41\n",
              "Launch_Time          41\n",
              "Launch_Site          41\n",
              "Vehicle_Type         41\n",
              "Payload_Name         41\n",
              "Payload_Type         38\n",
              "Payload_Mass_(kg)    33\n",
              "Payload_Orbit        36\n",
              "Customer_Name        39\n",
              "Customer_Type        39\n",
              "Customer_Country     39\n",
              "Mission_Outcome      41\n",
              "Failure_Reason        8\n",
              "Landing_Type         28\n",
              "Landing_Outcome      21\n",
              "dtype: int64"
            ]
          },
          "metadata": {},
          "execution_count": 14
        }
      ]
    },
    {
      "cell_type": "markdown",
      "metadata": {
        "id": "-4t7BMpdyVKT"
      },
      "source": [
        "\n",
        "\n",
        "> Now we will what kind of Vehicle Types does SpaceX has launced by using unique() method..\n",
        "\n"
      ]
    },
    {
      "cell_type": "code",
      "metadata": {
        "colab": {
          "base_uri": "https://localhost:8080/"
        },
        "id": "A_A5cV4hyXuW",
        "outputId": "f3f40fbf-53c1-45ba-ccf2-7af8a3ee0cf9"
      },
      "source": [
        "spacex_data.Vehicle_Type.unique()"
      ],
      "execution_count": 15,
      "outputs": [
        {
          "output_type": "execute_result",
          "data": {
            "text/plain": [
              "array(['Falcon 1', 'Falcon 9 (v1.0)', 'Falcon 9 (v1.1)',\n",
              "       'Falcon 9 Full Thrust (v1.2)'], dtype=object)"
            ]
          },
          "metadata": {},
          "execution_count": 15
        }
      ]
    },
    {
      "cell_type": "markdown",
      "metadata": {
        "id": "J8sSz12fydPq"
      },
      "source": [
        "it tells that the given data has 4 types of Vehicle Types."
      ]
    },
    {
      "cell_type": "markdown",
      "metadata": {
        "id": "2PtMYzdIymKs"
      },
      "source": [
        "\n",
        "\n",
        "> .describe() method gives mean, min, max, median, Q1 and Q3.\n",
        "\n",
        "\n",
        "\n"
      ]
    },
    {
      "cell_type": "code",
      "metadata": {
        "colab": {
          "base_uri": "https://localhost:8080/",
          "height": 300
        },
        "id": "x62Z5Svhyryy",
        "outputId": "ae53276c-be16-433d-b2a9-f995b577f0b4"
      },
      "source": [
        "spacex_data.describe()"
      ],
      "execution_count": 16,
      "outputs": [
        {
          "output_type": "execute_result",
          "data": {
            "text/html": [
              "<div>\n",
              "<style scoped>\n",
              "    .dataframe tbody tr th:only-of-type {\n",
              "        vertical-align: middle;\n",
              "    }\n",
              "\n",
              "    .dataframe tbody tr th {\n",
              "        vertical-align: top;\n",
              "    }\n",
              "\n",
              "    .dataframe thead th {\n",
              "        text-align: right;\n",
              "    }\n",
              "</style>\n",
              "<table border=\"1\" class=\"dataframe\">\n",
              "  <thead>\n",
              "    <tr style=\"text-align: right;\">\n",
              "      <th></th>\n",
              "      <th>Payload_Mass_(kg)</th>\n",
              "    </tr>\n",
              "  </thead>\n",
              "  <tbody>\n",
              "    <tr>\n",
              "      <th>count</th>\n",
              "      <td>33.000000</td>\n",
              "    </tr>\n",
              "    <tr>\n",
              "      <th>mean</th>\n",
              "      <td>2739.772727</td>\n",
              "    </tr>\n",
              "    <tr>\n",
              "      <th>std</th>\n",
              "      <td>2131.502973</td>\n",
              "    </tr>\n",
              "    <tr>\n",
              "      <th>min</th>\n",
              "      <td>8.000000</td>\n",
              "    </tr>\n",
              "    <tr>\n",
              "      <th>25%</th>\n",
              "      <td>570.000000</td>\n",
              "    </tr>\n",
              "    <tr>\n",
              "      <th>50%</th>\n",
              "      <td>2490.000000</td>\n",
              "    </tr>\n",
              "    <tr>\n",
              "      <th>75%</th>\n",
              "      <td>4159.000000</td>\n",
              "    </tr>\n",
              "    <tr>\n",
              "      <th>max</th>\n",
              "      <td>9600.000000</td>\n",
              "    </tr>\n",
              "  </tbody>\n",
              "</table>\n",
              "</div>"
            ],
            "text/plain": [
              "       Payload_Mass_(kg)\n",
              "count          33.000000\n",
              "mean         2739.772727\n",
              "std          2131.502973\n",
              "min             8.000000\n",
              "25%           570.000000\n",
              "50%          2490.000000\n",
              "75%          4159.000000\n",
              "max          9600.000000"
            ]
          },
          "metadata": {},
          "execution_count": 16
        }
      ]
    },
    {
      "cell_type": "markdown",
      "metadata": {
        "id": "4EWZatc9yyXN"
      },
      "source": [
        "Here, the statistical terms for the Payload_Mass_(kg) from the given data\n",
        "\n",
        "> Features, values and their data types present in a Data frame can be fount with the method .info() . It is found that all cells are non empty.\n",
        "\n"
      ]
    },
    {
      "cell_type": "code",
      "metadata": {
        "colab": {
          "base_uri": "https://localhost:8080/"
        },
        "id": "WAjQRXx-zJLT",
        "outputId": "7441492c-607d-49ac-e4b6-ef021ad70640"
      },
      "source": [
        "spacex_data.info()"
      ],
      "execution_count": 17,
      "outputs": [
        {
          "output_type": "stream",
          "name": "stdout",
          "text": [
            "<class 'pandas.core.frame.DataFrame'>\n",
            "RangeIndex: 41 entries, 0 to 40\n",
            "Data columns (total 16 columns):\n",
            " #   Column             Non-Null Count  Dtype  \n",
            "---  ------             --------------  -----  \n",
            " 0   Flight_Number      41 non-null     object \n",
            " 1   Launch_Date        41 non-null     object \n",
            " 2   Launch_Time        41 non-null     object \n",
            " 3   Launch_Site        41 non-null     object \n",
            " 4   Vehicle_Type       41 non-null     object \n",
            " 5   Payload_Name       41 non-null     object \n",
            " 6   Payload_Type       38 non-null     object \n",
            " 7   Payload_Mass_(kg)  33 non-null     float64\n",
            " 8   Payload_Orbit      36 non-null     object \n",
            " 9   Customer_Name      39 non-null     object \n",
            " 10  Customer_Type      39 non-null     object \n",
            " 11  Customer_Country   39 non-null     object \n",
            " 12  Mission_Outcome    41 non-null     object \n",
            " 13  Failure_Reason     8 non-null      object \n",
            " 14  Landing_Type       28 non-null     object \n",
            " 15  Landing_Outcome    21 non-null     object \n",
            "dtypes: float64(1), object(15)\n",
            "memory usage: 5.2+ KB\n"
          ]
        }
      ]
    },
    {
      "cell_type": "code",
      "metadata": {
        "colab": {
          "base_uri": "https://localhost:8080/"
        },
        "id": "3N21Ziwgzg7m",
        "outputId": "c17a1826-176d-4026-c061-a6a256abff5a"
      },
      "source": [
        "spacex_data.isnull().sum()"
      ],
      "execution_count": 18,
      "outputs": [
        {
          "output_type": "execute_result",
          "data": {
            "text/plain": [
              "Flight_Number         0\n",
              "Launch_Date           0\n",
              "Launch_Time           0\n",
              "Launch_Site           0\n",
              "Vehicle_Type          0\n",
              "Payload_Name          0\n",
              "Payload_Type          3\n",
              "Payload_Mass_(kg)     8\n",
              "Payload_Orbit         5\n",
              "Customer_Name         2\n",
              "Customer_Type         2\n",
              "Customer_Country      2\n",
              "Mission_Outcome       0\n",
              "Failure_Reason       33\n",
              "Landing_Type         13\n",
              "Landing_Outcome      20\n",
              "dtype: int64"
            ]
          },
          "metadata": {},
          "execution_count": 18
        }
      ]
    },
    {
      "cell_type": "markdown",
      "metadata": {
        "id": "UIxR_A-j07IY"
      },
      "source": [
        "From above,it is known that the features Payload_type, Payload_Mass_(kg), Payload_Orbit, Customer_Name, Customer_Type, Customer_Country, Failure_Reason, Landing_Type and Landing_Outcome has null values,And this Null values has to be filled."
      ]
    },
    {
      "cell_type": "markdown",
      "metadata": {
        "id": "mKh_O2T12jK3"
      },
      "source": [
        "\n",
        "\n",
        "> By using the value_counts() method we can find the number of occurences of each value.\n",
        "\n"
      ]
    },
    {
      "cell_type": "code",
      "metadata": {
        "colab": {
          "base_uri": "https://localhost:8080/"
        },
        "id": "VHfjHurp1uft",
        "outputId": "8ae9be27-0909-4fa1-f9a8-3fb2829e668a"
      },
      "source": [
        "spacex_data.Customer_Country.value_counts()"
      ],
      "execution_count": 19,
      "outputs": [
        {
          "output_type": "execute_result",
          "data": {
            "text/plain": [
              "United States      23\n",
              "Thailand            2\n",
              "Japan               2\n",
              "France (Mexico)     2\n",
              "Bermuda             2\n",
              "Luxembourg          2\n",
              "China               2\n",
              "Canada              1\n",
              "Israel              1\n",
              "Malaysia            1\n",
              "Turkmenistan        1\n",
              "Name: Customer_Country, dtype: int64"
            ]
          },
          "metadata": {},
          "execution_count": 19
        }
      ]
    },
    {
      "cell_type": "markdown",
      "metadata": {
        "id": "EavhJAj32iFr"
      },
      "source": [
        "From the above result we can say that, the dataset is said to be not a Balanced DataSet.\n",
        "\n"
      ]
    },
    {
      "cell_type": "markdown",
      "metadata": {
        "id": "DdCgvQQF2990"
      },
      "source": [
        "# **Data visualization**\n",
        "\n",
        "\n",
        "> Data visualization is the act of taking information (data) and placing it into a visual context , such as a map or graph. Data visualizations make big and small data easier for the human brain to understand, and visualization also makes it easier to detect patterns, trends, and outliers in groups of data.\n",
        "\n",
        "Data visualization is mostly carried out by using the libraries matplotlib and seaborn.\n",
        "\n"
      ]
    },
    {
      "cell_type": "markdown",
      "metadata": {
        "id": "wJDmnsW7XQi2"
      },
      "source": [
        "**Bar Graph of launching sites used**"
      ]
    },
    {
      "cell_type": "markdown",
      "metadata": {
        "id": "CLO84j1g3jsN"
      },
      "source": [
        "\n",
        "\n",
        "> Now,We will see which Launch Site does SpaceX used the most for its Launches with the help of a Bar Graph.\n",
        "\n"
      ]
    },
    {
      "cell_type": "code",
      "metadata": {
        "colab": {
          "base_uri": "https://localhost:8080/",
          "height": 535
        },
        "id": "768aKE3D29G2",
        "outputId": "214f926d-6e64-4a43-a546-652f7f30d76f"
      },
      "source": [
        "spacex_data.Launch_Site.value_counts().nlargest(10).plot(kind='bar', figsize=(14,6), color='b')\n",
        "plt.title('No of launches from each launching stations')\n",
        "plt.ylabel('No.of.times')\n",
        "plt.xlabel('Launch_Site');"
      ],
      "execution_count": 20,
      "outputs": [
        {
          "output_type": "display_data",
          "data": {
            "image/png": "[encoded data removed]",
            "text/plain": [
              "<Figure size 1008x432 with 1 Axes>"
            ]
          },
          "metadata": {
            "needs_background": "light"
          }
        }
      ]
    },
    {
      "cell_type": "markdown",
      "metadata": {
        "id": "zI_msXtL5_oT"
      },
      "source": [
        "From the above Bar Graph it is indicated that SpaceX done its most of its Launches from 'Cape Canaveral AFS LC-40' Launch Site.\n",
        "And very least used 'Kennedy Space Center LC-39A' Launch Site.."
      ]
    },
    {
      "cell_type": "markdown",
      "metadata": {
        "id": "XNX88wApXbJ5"
      },
      "source": [
        "**Pie Chart to analyse data**"
      ]
    },
    {
      "cell_type": "markdown",
      "metadata": {
        "id": "j9fLFN0E6z9l"
      },
      "source": [
        "\n",
        "\n",
        "> Now we will use pie chart to analyse some of the qualities of SpaceX.. \n",
        "\n"
      ]
    },
    {
      "cell_type": "code",
      "metadata": {
        "colab": {
          "base_uri": "https://localhost:8080/",
          "height": 476
        },
        "id": "Yika__F2NtR_",
        "outputId": "9c4c7ff1-32d6-4d7d-91c3-b891bf2707fd"
      },
      "source": [
        "spacex_data['Customer_Type'].value_counts().plot.pie(figsize=(7, 7))\n",
        "plt.title(\"Customers that come to SpaceX\")\n",
        "plt.ylabel('Government')\n",
        "plt.xlabel('Business');\n",
        "\n",
        "total_data=spacex_data['Customer_Type'].value_counts().sum()\n",
        "Customer_data=spacex_data['Customer_Type'].value_counts()\n",
        "percentage_customer_data=(Customer_data[0]/total_data)*100\n",
        "print(\"Govt:\",percentage_customer_data,'%')\n",
        "print(\"Business: \",(100 - percentage_customer_data),'%')"
      ],
      "execution_count": 29,
      "outputs": [
        {
          "output_type": "stream",
          "name": "stdout",
          "text": [
            "Govt: 51.28205128205128 %\n",
            "Business:  48.71794871794872 %\n"
          ]
        },
        {
          "output_type": "display_data",
          "data": {
            "image/png": "[encoded data removed]",
            "text/plain": [
              "<Figure size 504x504 with 1 Axes>"
            ]
          },
          "metadata": {}
        }
      ]
    },
    {
      "cell_type": "markdown",
      "metadata": {
        "id": "CTvfzrHYRrW2"
      },
      "source": [
        "SO, it tells that SpaceX did launch of Government as equal as Business ones.."
      ]
    },
    {
      "cell_type": "code",
      "metadata": {
        "colab": {
          "base_uri": "https://localhost:8080/",
          "height": 476
        },
        "id": "Gm0ex2T-VhhB",
        "outputId": "a7a40484-1b42-468e-d8ce-95e3a687b921"
      },
      "source": [
        "spacex_data['Mission_Outcome'].value_counts().plot.pie(figsize=(7, 7))\n",
        "plt.title(\"Misson Outcome of SpaceX\")\n",
        "plt.ylabel('Success')\n",
        "plt.xlabel('Failure');\n",
        "\n",
        "total_data=spacex_data['Mission_Outcome'].value_counts().sum()\n",
        "Mission_data=spacex_data['Mission_Outcome'].value_counts()\n",
        "percentage_Success_data=(Mission_data[0]/total_data)*100\n",
        "print(\"Success:\",percentage_Success_data,'%')\n",
        "print(\"Failure: \",(100 - percentage_Success_data),'%')"
      ],
      "execution_count": 32,
      "outputs": [
        {
          "output_type": "stream",
          "name": "stdout",
          "text": [
            "Success: 80.48780487804879 %\n",
            "Failure:  19.51219512195121 %\n"
          ]
        },
        {
          "output_type": "display_data",
          "data": {
            "image/png": "[encoded data removed]",
            "text/plain": [
              "<Figure size 504x504 with 1 Axes>"
            ]
          },
          "metadata": {}
        }
      ]
    },
    {
      "cell_type": "markdown",
      "metadata": {
        "id": "gG7I6xBUWYsH"
      },
      "source": [
        "the abuve analysis tells that from all obsevations that did from SpaceX launches \"80%\" of the misssions are at a great success.."
      ]
    },
    {
      "cell_type": "markdown",
      "metadata": {
        "id": "aOt5CamRXkW8"
      },
      "source": [
        ""
      ]
    },
    {
      "cell_type": "code",
      "metadata": {
        "colab": {
          "base_uri": "https://localhost:8080/",
          "height": 365
        },
        "id": "XMExM7ICa3i-",
        "outputId": "c6ee9b19-9580-47c8-edab-fd11c15791cd"
      },
      "source": [
        "sns.set(rc={\"figure.figsize\":(20, 8)})\n",
        "sns.boxplot(x=\"Customer_Country\", y=\"Payload_Mass_(kg)\", data=spacex_data)"
      ],
      "execution_count": 38,
      "outputs": [
        {
          "output_type": "execute_result",
          "data": {
            "text/plain": [
              "<matplotlib.axes._subplots.AxesSubplot at 0x7f71771037d0>"
            ]
          },
          "metadata": {},
          "execution_count": 38
        },
        {
          "output_type": "display_data",
          "data": {
            "image/png": "[encoded data removed]",
            "text/plain": [
              "<Figure size 1440x576 with 1 Axes>"
            ]
          },
          "metadata": {}
        }
      ]
    },
    {
      "cell_type": "markdown",
      "metadata": {
        "id": "XVpBPJYubqRb"
      },
      "source": [
        "from the plot indicates the Payload_mass_(kg) for \n",
        "each country that has lauchs in association with SpaceX...\n"
      ]
    },
    {
      "cell_type": "code",
      "metadata": {
        "colab": {
          "base_uri": "https://localhost:8080/",
          "height": 365
        },
        "id": "O5GvL2XgcQ4C",
        "outputId": "ccbfc31b-ec5d-4191-c2c0-75576eac4ece"
      },
      "source": [
        "sns.lineplot(x =\"Flight_Number\", y =\"Payload_Mass_(kg)\" ,data=spacex_data)"
      ],
      "execution_count": 42,
      "outputs": [
        {
          "output_type": "execute_result",
          "data": {
            "text/plain": [
              "<matplotlib.axes._subplots.AxesSubplot at 0x7f7176d86950>"
            ]
          },
          "metadata": {},
          "execution_count": 42
        },
        {
          "output_type": "display_data",
          "data": {
            "image/png": "[encoded data removed]",
            "text/plain": [
              "<Figure size 1440x576 with 1 Axes>"
            ]
          },
          "metadata": {}
        }
      ]
    },
    {
      "cell_type": "markdown",
      "metadata": {
        "id": "psbRr9bvmUZP"
      },
      "source": [
        "it shows the increase in Payload_Mass_(kg) as from the time goes on ..."
      ]
    },
    {
      "cell_type": "markdown",
      "metadata": {
        "id": "nHkNJdNN0-Ek"
      },
      "source": [
        "# **Conclusion:**\n",
        "\n",
        "\n",
        "*   From the above analysis we could say that SpaceX used only 4 lauch_sites till now.\n",
        "*   80% of the Missions done by SpaceX are a great success..\n",
        "*   From the beginning till now the 41th Flight Launch the Payload_Mass_(kg) has increased in a successful rate in little bit ups and downs.\n",
        "*   And not only the SpaceX launches flights for Business but it done as equally to Government projects for many countries...\n",
        "\n",
        "\n",
        "\n"
      ]
    }
  ]
}